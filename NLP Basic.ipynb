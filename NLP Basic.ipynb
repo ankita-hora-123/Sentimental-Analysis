{
 "cells": [
  {
   "cell_type": "code",
   "execution_count": 1,
   "metadata": {},
   "outputs": [],
   "source": [
    "import nltk"
   ]
  },
  {
   "cell_type": "code",
   "execution_count": 2,
   "metadata": {},
   "outputs": [
    {
     "name": "stderr",
     "output_type": "stream",
     "text": [
      "[nltk_data] Downloading package punkt to\n",
      "[nltk_data]     C:\\Users\\Ankita\\AppData\\Roaming\\nltk_data...\n",
      "[nltk_data]   Unzipping tokenizers\\punkt.zip.\n"
     ]
    },
    {
     "data": {
      "text/plain": [
       "True"
      ]
     },
     "execution_count": 2,
     "metadata": {},
     "output_type": "execute_result"
    }
   ],
   "source": [
    "nltk.download(\"punkt\")"
   ]
  },
  {
   "cell_type": "code",
   "execution_count": 3,
   "metadata": {},
   "outputs": [],
   "source": [
    "text=\"\"\"Hello Miss. Swathi, how are you doing today? Today the weather seems great,\n",
    "and bangalore city looks awesome. What did you eat in braekfast today morning\"\"\""
   ]
  },
  {
   "cell_type": "code",
   "execution_count": 4,
   "metadata": {},
   "outputs": [
    {
     "name": "stdout",
     "output_type": "stream",
     "text": [
      "['Hello Miss.', 'Swathi, how are you doing today?', 'Today the weather seems great,\\nand bangalore city looks awesome.', 'What did you eat in braekfast today morning']\n"
     ]
    }
   ],
   "source": [
    "from nltk.tokenize import sent_tokenize\n",
    "tokenized_text=sent_tokenize(text)\n",
    "print(tokenized_text)"
   ]
  },
  {
   "cell_type": "code",
   "execution_count": 5,
   "metadata": {},
   "outputs": [
    {
     "name": "stdout",
     "output_type": "stream",
     "text": [
      "['Hello', 'Miss', '.', 'Swathi', ',', 'how', 'are', 'you', 'doing', 'today', '?', 'Today', 'the', 'weather', 'seems', 'great', ',', 'and', 'bangalore', 'city', 'looks', 'awesome', '.', 'What', 'did', 'you', 'eat', 'in', 'braekfast', 'today', 'morning']\n"
     ]
    }
   ],
   "source": [
    "from nltk.tokenize import word_tokenize\n",
    "tokenized_word=word_tokenize(text)\n",
    "print(tokenized_word)"
   ]
  },
  {
   "cell_type": "markdown",
   "metadata": {},
   "source": [
    "##Converting to lower case"
   ]
  },
  {
   "cell_type": "code",
   "execution_count": 7,
   "metadata": {},
   "outputs": [
    {
     "name": "stdout",
     "output_type": "stream",
     "text": [
      "['hello', 'miss', '.', 'swathi', ',', 'how', 'are', 'you', 'doing', 'today', '?', 'today', 'the', 'weather', 'seems', 'great', ',', 'and', 'bangalore', 'city', 'looks', 'awesome', '.', 'what', 'did', 'you', 'eat', 'in', 'braekfast', 'today', 'morning']\n"
     ]
    }
   ],
   "source": [
    "tokens=[w.lower() for w in tokenized_word]\n",
    "print(tokens)"
   ]
  },
  {
   "cell_type": "markdown",
   "metadata": {},
   "source": [
    "##Noise Removal"
   ]
  },
  {
   "cell_type": "code",
   "execution_count": 12,
   "metadata": {},
   "outputs": [],
   "source": [
    "not_required=[\"doing\"]\n",
    "def noise_removal(text):\n",
    "    words=text.split()\n",
    "    final_text=[ word for word in words if word not in not_required]\n",
    "    final_text=\" \".join(final_text)\n",
    "    return final_text\n"
   ]
  },
  {
   "cell_type": "code",
   "execution_count": 13,
   "metadata": {},
   "outputs": [
    {
     "data": {
      "text/plain": [
       "'Hello Miss. Swathi, how are you today? Today the weather seems great, and bangalore city looks awesome. What did you eat in braekfast today morning'"
      ]
     },
     "execution_count": 13,
     "metadata": {},
     "output_type": "execute_result"
    }
   ],
   "source": [
    "noise_removal(text)"
   ]
  },
  {
   "cell_type": "code",
   "execution_count": 16,
   "metadata": {},
   "outputs": [
    {
     "name": "stdout",
     "output_type": "stream",
     "text": [
      "['hello', 'miss', 'swathi', 'how', 'are', 'you', 'doing', 'today', 'today', 'the', 'weather', 'seems', 'great', 'and', 'bangalore', 'city', 'looks', 'awesome', 'what', 'did', 'you', 'eat', 'in', 'braekfast', 'today', 'morning']\n"
     ]
    }
   ],
   "source": [
    "words=[ word for word in tokens if word.isalpha()]\n",
    "print(words)"
   ]
  },
  {
   "cell_type": "code",
   "execution_count": 18,
   "metadata": {},
   "outputs": [
    {
     "name": "stderr",
     "output_type": "stream",
     "text": [
      "[nltk_data] Downloading package stopwords to\n",
      "[nltk_data]     C:\\Users\\Ankita\\AppData\\Roaming\\nltk_data...\n",
      "[nltk_data]   Unzipping corpora\\stopwords.zip.\n"
     ]
    }
   ],
   "source": [
    "nltk.download(\"stopwords\")\n",
    "from nltk.corpus import stopwords"
   ]
  },
  {
   "cell_type": "code",
   "execution_count": 19,
   "metadata": {},
   "outputs": [
    {
     "name": "stdout",
     "output_type": "stream",
     "text": [
      "{'has', 'its', 'such', 'an', 'my', \"aren't\", 'at', 'each', \"weren't\", 'off', 'further', \"you're\", 'it', 'not', 'these', 'on', 'haven', 'there', 'theirs', 'under', 'most', \"mustn't\", 'weren', 'now', \"shouldn't\", 'after', 'them', 'all', \"shan't\", 'isn', 'but', \"mightn't\", 'down', \"you'd\", 'where', 'those', 'through', 'were', 'ourselves', 'ours', 'they', 'against', \"she's\", 'doesn', 'of', 'out', 'why', 'yourselves', 've', \"you've\", 'as', 'he', 'over', \"it's\", 'll', 'who', 'do', \"hasn't\", 'a', 'their', 'or', 'will', 'into', 'herself', 'our', 'to', 'wouldn', 'once', 'her', 'than', 'between', \"isn't\", 'ma', 'itself', 'ain', 'and', 'is', 'any', 'didn', 'been', 'other', 'during', 'just', 'o', 'in', 'same', 'she', \"should've\", 'own', 'whom', 'too', \"hadn't\", \"won't\", \"that'll\", 'having', \"you'll\", 'some', 'yourself', 'himself', 'only', 'about', 'yours', 'very', 'which', 'shan', 'wasn', 'have', 'for', 'up', 'hadn', 'did', 'was', \"couldn't\", 'be', 'you', 'both', 'below', 'more', \"haven't\", 'doing', 'couldn', 'if', 'with', 'am', 'being', 'can', 're', 'when', 'hers', 'had', 'while', 'should', \"wouldn't\", 'that', 'few', 't', \"doesn't\", 'mustn', 'shouldn', 'him', 'here', 'needn', 'y', 'because', \"needn't\", 'then', 'themselves', 'the', 'hasn', 'me', 'before', 'nor', 'so', 'his', 's', 'm', \"didn't\", 'again', 'does', 'won', 'd', 'by', 'aren', 'what', 'we', 'how', 'mightn', 'don', \"don't\", 'are', 'myself', 'i', 'this', 'no', 'above', 'your', 'from', \"wasn't\", 'until'}\n"
     ]
    }
   ],
   "source": [
    "stop_words=set(stopwords.words(\"english\"))\n",
    "print(stop_words)"
   ]
  },
  {
   "cell_type": "code",
   "execution_count": 20,
   "metadata": {},
   "outputs": [
    {
     "name": "stdout",
     "output_type": "stream",
     "text": [
      "['hello', 'miss', 'swathi', 'today', 'today', 'weather', 'seems', 'great', 'bangalore', 'city', 'looks', 'awesome', 'eat', 'braekfast', 'today', 'morning']\n"
     ]
    }
   ],
   "source": [
    "words=[ word for word in words if word not in stop_words]\n",
    "print(words)"
   ]
  },
  {
   "cell_type": "code",
   "execution_count": 24,
   "metadata": {},
   "outputs": [],
   "source": [
    "from nltk.stem import PorterStemmer\n",
    "ps=PorterStemmer()\n",
    "words=word_tokenize(text)"
   ]
  },
  {
   "cell_type": "code",
   "execution_count": 25,
   "metadata": {},
   "outputs": [
    {
     "name": "stdout",
     "output_type": "stream",
     "text": [
      "Filtered Sentence: ['Hello', 'Miss', '.', 'Swathi', ',', 'how', 'are', 'you', 'doing', 'today', '?', 'Today', 'the', 'weather', 'seems', 'great', ',', 'and', 'bangalore', 'city', 'looks', 'awesome', '.', 'What', 'did', 'you', 'eat', 'in', 'braekfast', 'today', 'morning']\n",
      "Stemmed Sentence: ['hello', 'miss', '.', 'swathi', ',', 'how', 'are', 'you', 'do', 'today', '?', 'today', 'the', 'weather', 'seem', 'great', ',', 'and', 'bangalor', 'citi', 'look', 'awesom', '.', 'what', 'did', 'you', 'eat', 'in', 'braekfast', 'today', 'morn']\n"
     ]
    }
   ],
   "source": [
    "stemmed_words=[]\n",
    "for w in words:\n",
    "    stemmed_words.append(ps.stem(w))\n",
    "print(\"Filtered Sentence:\",words)\n",
    "print(\"Stemmed Sentence:\",stemmed_words)"
   ]
  },
  {
   "cell_type": "code",
   "execution_count": 26,
   "metadata": {},
   "outputs": [
    {
     "name": "stderr",
     "output_type": "stream",
     "text": [
      "[nltk_data] Downloading package wordnet to\n",
      "[nltk_data]     C:\\Users\\Ankita\\AppData\\Roaming\\nltk_data...\n",
      "[nltk_data]   Unzipping corpora\\wordnet.zip.\n"
     ]
    }
   ],
   "source": [
    "nltk.download(\"wordnet\")\n",
    "from nltk.stem.wordnet import WordNetLemmatizer\n",
    "lem=WordNetLemmatizer()\n"
   ]
  },
  {
   "cell_type": "code",
   "execution_count": 27,
   "metadata": {},
   "outputs": [],
   "source": [
    "from nltk.stem.porter import PorterStemmer\n",
    "stem=PorterStemmer()"
   ]
  },
  {
   "cell_type": "code",
   "execution_count": 28,
   "metadata": {},
   "outputs": [
    {
     "name": "stdout",
     "output_type": "stream",
     "text": [
      "Lemmatized Word: fly\n",
      "Stemmed Word: fli\n"
     ]
    }
   ],
   "source": [
    "word=\"flying\"\n",
    "print(\"Lemmatized Word:\",lem.lemmatize(word,\"v\"))\n",
    "print(\"Stemmed Word:\",stem.stem(word))"
   ]
  },
  {
   "cell_type": "markdown",
   "metadata": {},
   "source": [
    "##Sentiment Analysis using NLTK"
   ]
  },
  {
   "cell_type": "code",
   "execution_count": 29,
   "metadata": {},
   "outputs": [
    {
     "name": "stderr",
     "output_type": "stream",
     "text": [
      "[nltk_data] Downloading package vader_lexicon to\n",
      "[nltk_data]     C:\\Users\\Ankita\\AppData\\Roaming\\nltk_data...\n"
     ]
    },
    {
     "data": {
      "text/plain": [
       "True"
      ]
     },
     "execution_count": 29,
     "metadata": {},
     "output_type": "execute_result"
    }
   ],
   "source": [
    "import nltk\n",
    "from nltk.sentiment.vader import SentimentIntensityAnalyzer\n",
    "nltk.download(\"vader_lexicon\")"
   ]
  },
  {
   "cell_type": "code",
   "execution_count": 30,
   "metadata": {},
   "outputs": [],
   "source": [
    "hotel_rev=[\"Great place to be when you are in bangalore.\",\n",
    "          \"The place was being renovated when I visited so the seating was limited.\",\n",
    "          \"Loved the ambience,loved the food\",\n",
    "          \"The food is delicious but not over the top\",\n",
    "          \"Service-Little slow,probably because too many people\",\n",
    "          \"The place is not easy to locate\",\n",
    "          \"Mushroom fried rice was tasty\"]"
   ]
  },
  {
   "cell_type": "code",
   "execution_count": 34,
   "metadata": {},
   "outputs": [
    {
     "name": "stdout",
     "output_type": "stream",
     "text": [
      "Great place to be when you are in bangalore.\n",
      "neg:0.0,neu:0.661,pos:0.339,compound:0.6249,\n",
      "The place was being renovated when I visited so the seating was limited.\n",
      "neg:0.147,neu:0.853,pos:0.0,compound:-0.2263,\n",
      "Loved the ambience,loved the food\n",
      "neg:0.0,neu:0.506,pos:0.494,compound:0.5994,\n",
      "The food is delicious but not over the top\n",
      "neg:0.168,neu:0.623,pos:0.209,compound:0.1184,\n",
      "Service-Little slow,probably because too many people\n",
      "neg:0.0,neu:1.0,pos:0.0,compound:0.0,\n",
      "The place is not easy to locate\n",
      "neg:0.286,neu:0.714,pos:0.0,compound:-0.3412,\n",
      "Mushroom fried rice was tasty\n",
      "neg:0.0,neu:1.0,pos:0.0,compound:0.0,\n"
     ]
    }
   ],
   "source": [
    "sid=SentimentIntensityAnalyzer()\n",
    "for sentence in hotel_rev:\n",
    "    print(sentence)\n",
    "    ss=sid.polarity_scores(sentence)\n",
    "    for k in ss:\n",
    "        print(\"{0}:{1},\".format(k,ss[k]),end=\"\")\n",
    "    print()"
   ]
  },
  {
   "cell_type": "code",
   "execution_count": null,
   "metadata": {},
   "outputs": [],
   "source": []
  }
 ],
 "metadata": {
  "kernelspec": {
   "display_name": "Python 3",
   "language": "python",
   "name": "python3"
  },
  "language_info": {
   "codemirror_mode": {
    "name": "ipython",
    "version": 3
   },
   "file_extension": ".py",
   "mimetype": "text/x-python",
   "name": "python",
   "nbconvert_exporter": "python",
   "pygments_lexer": "ipython3",
   "version": "3.7.3"
  }
 },
 "nbformat": 4,
 "nbformat_minor": 2
}
